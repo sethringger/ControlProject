{
  "nbformat": 4,
  "nbformat_minor": 0,
  "metadata": {
    "colab": {
      "name": "vol4project.ipynb",
      "provenance": [],
      "collapsed_sections": []
    },
    "kernelspec": {
      "name": "python3",
      "display_name": "Python 3"
    }
  },
  "cells": [
    {
      "cell_type": "code",
      "metadata": {
        "id": "hyQfhKEZKqHB"
      },
      "source": [
        "import numpy as np\n",
        "from scipy.integrate import odeint, quad, solve_bvp\n",
        "import matplotlib.pyplot as plt"
      ],
      "execution_count": null,
      "outputs": []
    },
    {
      "cell_type": "code",
      "metadata": {
        "id": "E6FzNKc7enba",
        "colab": {
          "resources": {
            "http://localhost:8080/nbextensions/google.colab/files.js": {
              "data": "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",
              "ok": true,
              "headers": [
                [
                  "content-type",
                  "application/javascript"
                ]
              ],
              "status": 200,
              "status_text": "OK"
            }
          },
          "base_uri": "https://localhost:8080/",
          "height": 78
        },
        "outputId": "fa9997b0-19aa-43e5-ee9e-6c7610e901c0"
      },
      "source": [
        "from google.colab import files\n",
        "uploaded = files.upload()"
      ],
      "execution_count": null,
      "outputs": [
        {
          "output_type": "display_data",
          "data": {
            "text/html": [
              "\n",
              "     <input type=\"file\" id=\"files-74b5ebd7-49e3-4361-91c0-b8df228bf64f\" name=\"files[]\" multiple disabled />\n",
              "     <output id=\"result-74b5ebd7-49e3-4361-91c0-b8df228bf64f\">\n",
              "      Upload widget is only available when the cell has been executed in the\n",
              "      current browser session. Please rerun this cell to enable.\n",
              "      </output>\n",
              "      <script src=\"/nbextensions/google.colab/files.js\"></script> "
            ],
            "text/plain": [
              "<IPython.core.display.HTML object>"
            ]
          },
          "metadata": {
            "tags": []
          }
        },
        {
          "output_type": "stream",
          "text": [
            "Saving map.npy to map.npy\n"
          ],
          "name": "stdout"
        }
      ]
    },
    {
      "cell_type": "code",
      "metadata": {
        "id": "BZe6pUr9LA2h"
      },
      "source": [
        "# not quite sure how we make v_max work but here it is \n",
        "# maybe we can import the track maker and it will tell us if a \n",
        "# point is on the track or in the grass or out of bounds\n",
        "\n",
        "# this is a mock v_max\n",
        "# track = np.load('map.npy')\n",
        "def v_max(x,y):\n",
        "    return np.exp(x)\n",
        "\n",
        "# odes\n",
        "# X = (x,y,v,theta,p1,p2,p3,p4)\n",
        "def x_dot(X,c):\n",
        "    v,theta = X[2],X[3]\n",
        "    return v*np.cos(theta)\n",
        "\n",
        "def y_dot(X,c):\n",
        "    v,theta = X[2],X[3]\n",
        "    return v*np.sin(theta)\n",
        "\n",
        "def v_dot(X,c):\n",
        "    x,y,v = X[0],X[1],X[2]\n",
        "    return .1*(u1(X,c) - (v / v_max(x,y)))\n",
        "\n",
        "def theta_dot(X,c):\n",
        "    v= X[2]\n",
        "    return .05*(u2(X,c) / (1 + v))\n",
        "\n",
        "def u1(X,c):\n",
        "    return np.sign(X[6]*.1)\n",
        "\n",
        "def u2(X,c):\n",
        "    return np.sign(X[7]*.05 / (1 + X[2]))\n",
        "\n",
        "def p1_dot(X,c):\n",
        "    x,y,v = X[0],X[1],X[2]\n",
        "    p3 = X[6]\n",
        "    return v*p3*(v_max(x,y))\n",
        "    # return np.zeros_like(X[0])\n",
        "\n",
        "def p2_dot(X,c):\n",
        "    x,y,v = X[0],X[1],X[2]\n",
        "    p3 = X[6]\n",
        "    return v*p3*(v_max(x,y))\n",
        "    # return np.zeros_like(X[0])\n",
        "\n",
        "def p3_dot(X,c):\n",
        "    x,y,v,theta,p1,p2,p3,p4 = X[0],X[1],X[2],X[3],X[4],X[5],X[6],X[7],\n",
        "    t1 = -p1*np.cos(theta) - p2*np.sin(theta)\n",
        "    t2 =  p3*.1*v_max(x,y) + p4 *.05 * u2(X,c)/ (1 + v)**2\n",
        "    return t1 + t2\n",
        "\n",
        "def p4_dot(X,c):\n",
        "    v,theta,p1,p2 = X[2],X[3],X[4],X[5]\n",
        "    return p1*v*np.sin(theta) - p2*v*np.cos(theta)\n",
        "\n",
        "\n",
        "# final ode function\n",
        "def rhs(t, X, c):\n",
        "    to_return = c[0]*np.vstack(\n",
        "        [\n",
        "         x_dot(X,c), y_dot(X,c), v_dot(X,c),\n",
        "         theta_dot(X,c),p1_dot(X,c), p2_dot(X,c),\n",
        "         p3_dot(X,c), p4_dot(X,c)\n",
        "        ]\n",
        "    )\n",
        "    return to_return\n",
        "\n",
        "def bc(ya, yb, c):\n",
        "    '''\n",
        "    function evaluating residuals of the boundary conditions.\n",
        "    The calling signature is bc(ya, yb), or bc(ya, yb, p) if\n",
        "    parameters are present. All arguments are ndarray:\n",
        "    ya and yb with shape (n,), and p with shape (k,).\n",
        "    The return value must be an array with shape (n + k,).\n",
        "    '''\n",
        "    \n",
        "    return np.array(\n",
        "        [\n",
        "        #  x0\n",
        "         ya[0],\n",
        "        #  xf\n",
        "         yb[0] - 5,\n",
        "        #  y0\n",
        "         ya[1],\n",
        "        #  yf\n",
        "         yb[1] - 10,\n",
        "        #  v0\n",
        "         ya[2],\n",
        "        #  theta0\n",
        "         ya[3],\n",
        "        #  p4f\n",
        "         yb[7],\n",
        "        #  p3f\n",
        "         yb[6],\n",
        "        #  hamiltonian is 0 along optimal things\n",
        "         np.abs(ya[6]*.1) + np.abs(ya[7]*.05) - 1\n",
        "        ]\n",
        "    )"
      ],
      "execution_count": null,
      "outputs": []
    },
    {
      "cell_type": "code",
      "metadata": {
        "id": "9lfhYXSHVxwA",
        "colab": {
          "base_uri": "https://localhost:8080/",
          "height": 280
        },
        "outputId": "121d7764-cc9d-4fc6-d2c1-68be2bdd8237"
      },
      "source": [
        "t = np.linspace(0,10,10)\n",
        "y = np.array([np.exp(t)]*8)\n",
        "sol = solve_bvp(rhs,bc,t,y,np.array([5]),tol=1e-8)\n"
      ],
      "execution_count": null,
      "outputs": [
        {
          "output_type": "stream",
          "text": [
            "/usr/local/lib/python3.6/dist-packages/ipykernel_launcher.py:2: RuntimeWarning: overflow encountered in exp\n",
            "  \n",
            "/usr/local/lib/python3.6/dist-packages/scipy/integrate/_bvp.py:312: RuntimeWarning: invalid value encountered in subtract\n",
            "  0.125 * h * (f[:, 1:] - f[:, :-1]))\n",
            "/usr/local/lib/python3.6/dist-packages/ipykernel_launcher.py:44: RuntimeWarning: invalid value encountered in add\n",
            "/usr/local/lib/python3.6/dist-packages/ipykernel_launcher.py:48: RuntimeWarning: invalid value encountered in subtract\n",
            "/usr/local/lib/python3.6/dist-packages/scipy/integrate/_bvp.py:315: RuntimeWarning: invalid value encountered in add\n",
            "  4 * f_middle)\n",
            "/usr/local/lib/python3.6/dist-packages/scipy/integrate/_bvp.py:42: RuntimeWarning: invalid value encountered in subtract\n",
            "  df_dy[:, i, :] = (f_new - f0) / hi\n",
            "/usr/local/lib/python3.6/dist-packages/scipy/integrate/_bvp.py:55: RuntimeWarning: invalid value encountered in subtract\n",
            "  df_dp[:, i, :] = (f_new - f0) / hi\n",
            "/usr/local/lib/python3.6/dist-packages/scipy/integrate/_bvp.py:39: RuntimeWarning: invalid value encountered in add\n",
            "  y_new[i] += h[i]\n"
          ],
          "name": "stderr"
        }
      ]
    },
    {
      "cell_type": "code",
      "metadata": {
        "id": "vfoTLEODhQR_",
        "colab": {
          "base_uri": "https://localhost:8080/",
          "height": 296
        },
        "outputId": "20181059-65c8-4cb0-c74e-995a3b57e15c"
      },
      "source": [
        "print('t_f = ',sol.p[0])\n",
        "\n",
        "t_f = sol.p[0]\n",
        "t_plot = np.linspace(0, 1, 100)*t_f\n",
        "x_plot = sol.sol(t_plot)[0]\n",
        "y_plot = sol.sol(t_plot)[1]\n",
        "plt.plot(x_plot, y_plot)\n",
        "plt.xlabel(\"x\")\n",
        "plt.ylabel(\"y\")\n",
        "plt.show()"
      ],
      "execution_count": null,
      "outputs": [
        {
          "output_type": "stream",
          "text": [
            "t_f =  5.0\n"
          ],
          "name": "stdout"
        },
        {
          "output_type": "display_data",
          "data": {
            "image/png": "[encoded data removed]",
            "text/plain": [
              "<Figure size 432x288 with 1 Axes>"
            ]
          },
          "metadata": {
            "tags": []
          }
        }
      ]
    },
    {
      "cell_type": "code",
      "metadata": {
        "id": "Ck9frLmD-Fdq",
        "colab": {
          "base_uri": "https://localhost:8080/",
          "height": 1000
        },
        "outputId": "fe901228-5346-4fb6-f6d7-38b73978b524"
      },
      "source": [
        "sol"
      ],
      "execution_count": null,
      "outputs": [
        {
          "output_type": "execute_result",
          "data": {
            "text/plain": [
              "       message: 'A singular Jacobian encountered when solving the collocation system.'\n",
              "         niter: 1\n",
              "             p: array([5.])\n",
              " rms_residuals: array([  4.57930334,   7.87095671,  21.62514459,  86.81924698,\n",
              "       171.12303021,          nan,          nan,          nan,\n",
              "                nan])\n",
              "           sol: <scipy.interpolate.interpolate.PPoly object at 0x7ff3a90321a8>\n",
              "        status: 2\n",
              "       success: False\n",
              "             x: array([ 0.        ,  1.11111111,  2.22222222,  3.33333333,  4.44444444,\n",
              "        5.55555556,  6.66666667,  7.77777778,  8.88888889, 10.        ])\n",
              "             y: array([[1.00000000e+00, 3.03773178e+00, 9.22781435e+00, 2.80316249e+01,\n",
              "        8.51525577e+01, 2.58670631e+02, 7.85771994e+02, 2.38696456e+03,\n",
              "        7.25095809e+03, 2.20264658e+04],\n",
              "       [1.00000000e+00, 3.03773178e+00, 9.22781435e+00, 2.80316249e+01,\n",
              "        8.51525577e+01, 2.58670631e+02, 7.85771994e+02, 2.38696456e+03,\n",
              "        7.25095809e+03, 2.20264658e+04],\n",
              "       [1.00000000e+00, 3.03773178e+00, 9.22781435e+00, 2.80316249e+01,\n",
              "        8.51525577e+01, 2.58670631e+02, 7.85771994e+02, 2.38696456e+03,\n",
              "        7.25095809e+03, 2.20264658e+04],\n",
              "       [1.00000000e+00, 3.03773178e+00, 9.22781435e+00, 2.80316249e+01,\n",
              "        8.51525577e+01, 2.58670631e+02, 7.85771994e+02, 2.38696456e+03,\n",
              "        7.25095809e+03, 2.20264658e+04],\n",
              "       [1.00000000e+00, 3.03773178e+00, 9.22781435e+00, 2.80316249e+01,\n",
              "        8.51525577e+01, 2.58670631e+02, 7.85771994e+02, 2.38696456e+03,\n",
              "        7.25095809e+03, 2.20264658e+04],\n",
              "       [1.00000000e+00, 3.03773178e+00, 9.22781435e+00, 2.80316249e+01,\n",
              "        8.51525577e+01, 2.58670631e+02, 7.85771994e+02, 2.38696456e+03,\n",
              "        7.25095809e+03, 2.20264658e+04],\n",
              "       [1.00000000e+00, 3.03773178e+00, 9.22781435e+00, 2.80316249e+01,\n",
              "        8.51525577e+01, 2.58670631e+02, 7.85771994e+02, 2.38696456e+03,\n",
              "        7.25095809e+03, 2.20264658e+04],\n",
              "       [1.00000000e+00, 3.03773178e+00, 9.22781435e+00, 2.80316249e+01,\n",
              "        8.51525577e+01, 2.58670631e+02, 7.85771994e+02, 2.38696456e+03,\n",
              "        7.25095809e+03, 2.20264658e+04]])\n",
              "            yp: array([[ 2.70151153e+000, -1.51068119e+001, -4.52469865e+001,\n",
              "        -1.36050157e+002, -4.02850834e+002,  6.32247104e+002,\n",
              "         3.65751412e+003,  9.53094005e+003,  3.57786822e+004,\n",
              "        -7.98505991e+004],\n",
              "       [ 4.20735492e+000,  1.57467283e+000,  9.02907278e+000,\n",
              "         3.36846357e+001, -1.37786640e+002,  1.12828453e+003,\n",
              "         1.43475820e+003, -7.18339590e+003,  5.85625559e+003,\n",
              "        -7.58486105e+004],\n",
              "       [-8.59140914e-001, -3.11803213e+001, -4.69518902e+004,\n",
              "        -2.09217635e+013, -4.07806025e+038, -2.82451958e+114,\n",
              "                    -inf,             -inf,             -inf,\n",
              "                    -inf],\n",
              "       [ 1.25000000e-001,  6.19159503e-002,  2.44431500e-002,\n",
              "         8.61129892e-003,  2.90182911e-003,  9.62758089e-004,\n",
              "         3.17754066e-004,  1.04691671e-004,  3.44734480e-005,\n",
              "         1.13494672e-005],\n",
              "       [-9.19698603e+000, -1.10603459e+001, -2.09193821e-001,\n",
              "        -1.31600198e-008, -1.89255917e-032, -7.65961231e-107,\n",
              "        -0.00000000e+000, -0.00000000e+000, -0.00000000e+000,\n",
              "        -0.00000000e+000],\n",
              "       [-9.19698603e+000, -1.10603459e+001, -2.09193821e-001,\n",
              "        -1.31600198e-008, -1.89255917e-032, -7.65961231e-107,\n",
              "        -0.00000000e+000, -0.00000000e+000, -0.00000000e+000,\n",
              "        -0.00000000e+000],\n",
              "       [-6.66242673e+000,  1.36515404e+001,  3.62404204e+001,\n",
              "         1.02373836e+002,  5.40640341e+002, -1.76053067e+003,\n",
              "        -5.09227201e+003, -2.34754405e+003, -4.16349378e+004,\n",
              "         1.55699210e+005],\n",
              "       [ 1.50584339e+000,  5.06738761e+001,  5.00849399e+002,\n",
              "         4.75794203e+003,  2.25708941e+004,  1.28310313e+005,\n",
              "        -1.74657935e+006, -3.98965275e+007, -2.16966261e+008,\n",
              "         8.81496653e+007]])"
            ]
          },
          "metadata": {
            "tags": []
          },
          "execution_count": 132
        }
      ]
    },
    {
      "cell_type": "code",
      "metadata": {
        "id": "LYW9WDv1-PgS",
        "colab": {
          "base_uri": "https://localhost:8080/",
          "height": 34
        },
        "outputId": "24a6bcb7-5e1a-4c30-faba-61e20ce779c6"
      },
      "source": [
        "u1(sol.y, c)"
      ],
      "execution_count": null,
      "outputs": [
        {
          "output_type": "execute_result",
          "data": {
            "text/plain": [
              "array([1., 1., 1., 1., 1., 1., 1., 1., 1., 1.])"
            ]
          },
          "metadata": {
            "tags": []
          },
          "execution_count": 105
        }
      ]
    },
    {
      "cell_type": "code",
      "metadata": {
        "id": "p5p3o51DA121",
        "colab": {
          "base_uri": "https://localhost:8080/",
          "height": 34
        },
        "outputId": "671dbc15-b4eb-4789-e99f-562fb18c03c4"
      },
      "source": [
        "u2(sol.y,c)"
      ],
      "execution_count": null,
      "outputs": [
        {
          "output_type": "execute_result",
          "data": {
            "text/plain": [
              "array([1., 1., 1., 1., 1., 1., 1., 1., 1., 1.])"
            ]
          },
          "metadata": {
            "tags": []
          },
          "execution_count": 106
        }
      ]
    },
    {
      "cell_type": "code",
      "metadata": {
        "id": "Y3tqENK2CLOc"
      },
      "source": [
        ""
      ],
      "execution_count": null,
      "outputs": []
    }
  ]
}